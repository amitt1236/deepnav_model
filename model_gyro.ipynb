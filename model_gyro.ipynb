{
 "metadata": {
  "language_info": {
   "codemirror_mode": {
    "name": "ipython",
    "version": 3
   },
   "file_extension": ".py",
   "mimetype": "text/x-python",
   "name": "python",
   "nbconvert_exporter": "python",
   "pygments_lexer": "ipython3",
   "version": "3.8.3"
  },
  "orig_nbformat": 2,
  "kernelspec": {
   "name": "python383jvsc74a57bd0082e9a3bcad0a290d0001e938aa60b99250c6c2ef33a923c00b70f9826caf4b7",
   "display_name": "Python 3.8.3 64-bit ('3.8')"
  }
 },
 "nbformat": 4,
 "nbformat_minor": 2,
 "cells": [
  {
   "cell_type": "code",
   "execution_count": null,
   "source": [
    "import tensorflow as tf \n",
    "import numpy as np\n",
    "import pandas as pd\n",
    "import datetime"
   ],
   "outputs": [],
   "metadata": {}
  },
  {
   "cell_type": "code",
   "execution_count": null,
   "source": [
    "%load_ext tensorboard"
   ],
   "outputs": [],
   "metadata": {}
  },
  {
   "cell_type": "code",
   "execution_count": null,
   "source": [
    "rm -rf ./logs/"
   ],
   "outputs": [],
   "metadata": {}
  },
  {
   "cell_type": "code",
   "execution_count": null,
   "source": [
    "current_time = datetime.datetime.now().strftime(\"%Y%m%d-%H%M%S\")\n",
    "train_log_dir = 'logs/gradient_tape/' + current_time + '/train'\n",
    "test_log_dir = 'logs/gradient_tape/' + current_time + '/test'\n",
    "train_summary_writer = tf.summary.create_file_writer(train_log_dir)\n",
    "test_summary_writer = tf.summary.create_file_writer(test_log_dir)"
   ],
   "outputs": [],
   "metadata": {}
  },
  {
   "cell_type": "code",
   "execution_count": null,
   "source": [
    "train_path = '/Users/amitaflalo/Desktop/deepnav/data/train/'\n",
    "test_path = '/Users/amitaflalo/Desktop/deepnav/data/test/'\n",
    "interval = 50"
   ],
   "outputs": [],
   "metadata": {}
  },
  {
   "cell_type": "code",
   "execution_count": null,
   "source": [
    "def file_select_train(name):  \n",
    "    global accelometer\n",
    "    global gyroscope\n",
    "    global speed\n",
    "    global df\n",
    "\n",
    "    df = pd.read_csv(train_path + name , header= None)\n",
    "    accelometer = df.iloc[:, 2:5] \n",
    "    gyroscope = df.iloc[:, 5:8] \n",
    "    speed = df.iloc[:, 9:10]"
   ],
   "outputs": [],
   "metadata": {}
  },
  {
   "cell_type": "code",
   "execution_count": null,
   "source": [
    "def file_select_test(name):  \n",
    "    global accelometer\n",
    "    global gyroscope\n",
    "    global speed\n",
    "    global df\n",
    "\n",
    "    df = pd.read_csv(test_path + name , header= None)\n",
    "    accelometer = df.iloc[:, 2:5] \n",
    "    gyroscope = df.iloc[:, 5:8] \n",
    "    speed = df.iloc[:, 9:10]"
   ],
   "outputs": [],
   "metadata": {}
  },
  {
   "cell_type": "code",
   "execution_count": null,
   "source": [
    "def get_batch(batch_size, index):\n",
    "\n",
    "    global accelometer\n",
    "    global gyroscope\n",
    "    global speed\n",
    "    global df\n",
    "    \n",
    "    idx = index\n",
    "\n",
    "    #input to Network[accelometer, gyroscope  data]\n",
    "    ##########################################################################################\n",
    "\n",
    "    batch_accelometer = [accelometer.iloc[i * interval : i * interval + interval,:] for i in range(idx,idx + batch_size)]\n",
    "    batch_accelometer = np.array(batch_accelometer, dtype='float64')\n",
    "\n",
    "    batch_gyroscope = [gyroscope.iloc[i * interval : i * interval + interval,:] for i in range(idx,idx + batch_size)]\n",
    "    batch_gyroscope = np.array(batch_gyroscope, dtype='float64')\n",
    "\n",
    "    batch_sensors = np.concatenate((batch_accelometer,batch_gyroscope), axis = 2)\n",
    "\n",
    "    #ground truth[acceleraion(m/s)]\n",
    "    ########################################################################################## \n",
    "\n",
    "    batch_acceleraion = [speed.iloc[i * interval,:] for i in range(idx + 1,idx + batch_size + 1)]\n",
    "\n",
    "    batch_acceleraion = np.array(batch_acceleraion,  dtype='float64')\n",
    "\n",
    "\n",
    "\n",
    "\n",
    "    return batch_sensors, batch_acceleraion"
   ],
   "outputs": [],
   "metadata": {}
  },
  {
   "cell_type": "code",
   "execution_count": null,
   "source": [
    "file_select_train('locationData.csv')"
   ],
   "outputs": [],
   "metadata": {}
  },
  {
   "cell_type": "code",
   "execution_count": null,
   "source": [
    "x,y = get_batch(50,0)"
   ],
   "outputs": [],
   "metadata": {}
  },
  {
   "cell_type": "code",
   "execution_count": null,
   "source": [
    "x.shape"
   ],
   "outputs": [],
   "metadata": {}
  },
  {
   "cell_type": "code",
   "execution_count": null,
   "source": [
    "x = tf.keras.layers.Conv1D(filters = 128, kernel_size = 3, activation='relu')(x)\n",
    "# x = tf.keras.layers.Conv1D(filters = 128, kernel_size = 3, activation='relu')(x)\n",
    "# x = tf.keras.layers.MaxPool1D(3)(x)\n",
    "# x = tf.keras.layers.Conv1D(filters = 128, kernel_size = 3, activation='relu')(x)\n",
    "# x = tf.keras.layers.Conv1D(filters = 128, kernel_size = 3, activation='relu')(x)\n",
    "# x = tf.keras.layers.GlobalAveragePooling1D()(x)\n"
   ],
   "outputs": [],
   "metadata": {}
  },
  {
   "cell_type": "code",
   "execution_count": null,
   "source": [
    "x.shape"
   ],
   "outputs": [],
   "metadata": {}
  },
  {
   "cell_type": "code",
   "execution_count": null,
   "source": [
    "def build_model():\n",
    "  model = tf.keras.Sequential([\n",
    "    tf.keras.layers.LayerNormalization(axis=[1, 2], input_shape = (50,6)),\n",
    "    tf.keras.layers.Conv1D(filters = 64, kernel_size = 6, activation='relu', input_shape = (50,6)),\n",
    "    tf.keras.layers.Conv1D(filters = 64, kernel_size = 6, activation='relu'),\n",
    "    tf.keras.layers.MaxPool1D(3),\n",
    "\n",
    "    tf.keras.layers.Conv1D(filters = 64, kernel_size = 6, activation='relu'),\n",
    "    tf.keras.layers.Conv1D(filters = 64, kernel_size = 6, activation='relu'),\n",
    "\n",
    "\n",
    "    tf.keras.layers.Flatten(),\n",
    "    tf.keras.layers.Dense(256, activation='relu'),\n",
    "    tf.keras.layers.Dense(64, activation='relu'),\n",
    "\n",
    "    tf.keras.layers.Dense(1)\n",
    "  ])\n",
    "\n",
    "  return model\n",
    "model = build_model()\n",
    "print(model.summary())"
   ],
   "outputs": [],
   "metadata": {}
  },
  {
   "cell_type": "code",
   "execution_count": null,
   "source": [
    "def compute_loss(labels, logits):\n",
    "  mse = tf.keras.losses.MeanSquaredError()\n",
    "  loss = mse(labels, logits)\n",
    "  return loss\n",
    "\n",
    "def precent_loss(labels, logits):\n",
    "    mae = tf.keras.losses.MeanAbsolutePercentageError()\n",
    "    loss = mae(labels, logits)\n",
    "    return loss"
   ],
   "outputs": [],
   "metadata": {}
  },
  {
   "cell_type": "code",
   "execution_count": null,
   "source": [
    "# Define our metrics for tensorboard\n",
    "train_loss = tf.keras.metrics.Mean('train_loss', dtype=tf.float32)\n",
    "test_loss = tf.keras.metrics.Mean('test_loss', dtype=tf.float32)"
   ],
   "outputs": [],
   "metadata": {}
  },
  {
   "cell_type": "code",
   "execution_count": null,
   "source": [
    "### Hyperparameter setting and optimization ###\n",
    "\n",
    "# Optimization parameters:\n",
    "EPOCHS = 200  # Increase this to train longer\n",
    "batch_size = 10  # Experiment between 1 and 64\n",
    "learning_rate = 1e-4  # Experiment between 1e-5 and 1e-1\n",
    "\n",
    "# Checkpoint location: \n",
    "checkpoint_dir = './training_checkpoints'\n",
    "checkpoint_prefix = os.path.join(checkpoint_dir, \"my_ckpt\")"
   ],
   "outputs": [],
   "metadata": {}
  },
  {
   "cell_type": "code",
   "execution_count": null,
   "source": [
    "optimizer = tf.keras.optimizers.Adam(learning_rate)\n",
    "\n",
    "@tf.function\n",
    "def train_step(x, y): \n",
    "  global loss_real\n",
    "  # Use tf.GradientTape()\n",
    "  with tf.GradientTape() as tape:\n",
    "      y_hat = model(x) \n",
    "      loss = compute_loss(y, y_hat)\n",
    "\n",
    "  # Now, compute the gradients \n",
    "  grads = tape.gradient(loss, model.trainable_variables) \n",
    "  # Apply the gradients to the optimizer so it can update the model accordingly\n",
    "  optimizer.apply_gradients(zip(grads, model.trainable_variables))\n",
    "  \n",
    "  #metrics\n",
    "  train_loss(loss)\n",
    "\n",
    "@tf.function\n",
    "def test_step(x, y): \n",
    "    y_hat = model(x) \n",
    "    loss = precent_loss(y, y_hat)\n",
    "    test_loss(loss)"
   ],
   "outputs": [],
   "metadata": {}
  },
  {
   "cell_type": "code",
   "execution_count": null,
   "source": [
    "##################\n",
    "# Begin training!#\n",
    "##################\n",
    "\n",
    "for epoch in range(EPOCHS):\n",
    "\n",
    "  # Grab a batch and propagate it through the network\n",
    "  for filename in os.listdir(train_path):\n",
    "    if not filename.startswith('.'):\n",
    "      file_select_train(filename)\n",
    "      for index in range(0, ((len(df) - (batch_size + 1) * interval) // interval), batch_size):\n",
    "        x_batch, y_batch = get_batch(batch_size, index)\n",
    "        train_step(x_batch, y_batch)\n",
    "  with train_summary_writer.as_default():\n",
    "    tf.summary.scalar('loss', train_loss.result(), step=epoch)\n",
    "\n",
    "\n",
    "  for filename in os.listdir(test_path):\n",
    "    if not filename.startswith('.'):\n",
    "      file_select_test(filename)\n",
    "      for index in range(0, ((len(df) - (batch_size + 1) * interval) // interval), batch_size):\n",
    "        x_batch, y_batch = get_batch(batch_size, index)\n",
    "        test_step(x_batch, y_batch)\n",
    "\n",
    "  with test_summary_writer.as_default():\n",
    "    tf.summary.scalar('loss_test', test_loss.result(), step=epoch)\n",
    "\n",
    "  # Update the model with the changed weights!\n",
    "  if epoch % 10 == 0:     \n",
    "    model.save_weights(checkpoint_prefix)\n",
    "\n",
    "  template = 'epoch {}, Loss: {}, Test Loss: {}'\n",
    "  print (template.format(epoch+1,\n",
    "                         train_loss.result(), \n",
    "                         test_loss.result())) \n",
    "\n",
    "\n",
    "  # Reset metrics every epoch\n",
    "  train_loss.reset_states()\n",
    "  test_loss.reset_states()\n",
    "    \n",
    "# Save the trained model and the weights\n",
    "model.save_weights(checkpoint_prefix)"
   ],
   "outputs": [],
   "metadata": {
    "tags": []
   }
  },
  {
   "cell_type": "code",
   "execution_count": null,
   "source": [
    "x,y = get_batch(1,123)\n",
    "model.predict(x)"
   ],
   "outputs": [],
   "metadata": {}
  },
  {
   "cell_type": "code",
   "execution_count": null,
   "source": [
    "y"
   ],
   "outputs": [],
   "metadata": {}
  },
  {
   "cell_type": "code",
   "execution_count": null,
   "source": [
    "%tensorboard --logdir /Users/amitaflalo/Desktop/deepnav/logs\n"
   ],
   "outputs": [],
   "metadata": {}
  },
  {
   "cell_type": "code",
   "execution_count": null,
   "source": [],
   "outputs": [],
   "metadata": {}
  }
 ]
}