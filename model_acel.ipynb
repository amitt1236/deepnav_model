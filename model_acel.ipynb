{
 "metadata": {
  "language_info": {
   "codemirror_mode": {
    "name": "ipython",
    "version": 3
   },
   "file_extension": ".py",
   "mimetype": "text/x-python",
   "name": "python",
   "nbconvert_exporter": "python",
   "pygments_lexer": "ipython3",
   "version": "3.8.3"
  },
  "orig_nbformat": 2,
  "kernelspec": {
   "name": "python383jvsc74a57bd0082e9a3bcad0a290d0001e938aa60b99250c6c2ef33a923c00b70f9826caf4b7",
   "display_name": "Python 3.8.3 64-bit ('3.8')"
  }
 },
 "nbformat": 4,
 "nbformat_minor": 2,
 "cells": [
  {
   "cell_type": "code",
   "execution_count": 2,
   "metadata": {},
   "outputs": [],
   "source": [
    "import tensorflow as tf \n",
    "import numpy as np\n",
    "import pandas as pd\n",
    "import datetime"
   ]
  },
  {
   "cell_type": "code",
   "execution_count": 3,
   "metadata": {},
   "outputs": [],
   "source": [
    "%load_ext tensorboard"
   ]
  },
  {
   "cell_type": "code",
   "execution_count": 4,
   "metadata": {},
   "outputs": [],
   "source": [
    "rm -rf ./logs/"
   ]
  },
  {
   "cell_type": "code",
   "execution_count": 5,
   "metadata": {},
   "outputs": [],
   "source": [
    "current_time = datetime.datetime.now().strftime(\"%Y%m%d-%H%M%S\")\n",
    "train_log_dir = 'logs/gradient_tape/' + current_time + '/train'\n",
    "test_log_dir = 'logs/gradient_tape/' + current_time + '/test'\n",
    "train_summary_writer = tf.summary.create_file_writer(train_log_dir)\n",
    "test_summary_writer = tf.summary.create_file_writer(test_log_dir)"
   ]
  },
  {
   "cell_type": "code",
   "execution_count": 6,
   "metadata": {},
   "outputs": [],
   "source": [
    "train_path = '/Users/amitaflalo/Desktop/deepnav/data/train/'\n",
    "test_path = '/Users/amitaflalo/Desktop/deepnav/data/test/'\n",
    "interval = 50"
   ]
  },
  {
   "cell_type": "code",
   "execution_count": 7,
   "metadata": {},
   "outputs": [],
   "source": [
    "def file_select_train(name):  \n",
    "    global accelometer\n",
    "    global gyroscope\n",
    "    global speed\n",
    "    global df\n",
    "\n",
    "    df = pd.read_csv(train_path + name , header= None)\n",
    "    accelometer = df.iloc[:, 2:5] \n",
    "    gyroscope = df.iloc[:, 5:8] \n",
    "    speed = df.iloc[:, 9:10]"
   ]
  },
  {
   "cell_type": "code",
   "execution_count": 8,
   "metadata": {},
   "outputs": [],
   "source": [
    "def file_select_test(name):  \n",
    "    global accelometer\n",
    "    global gyroscope\n",
    "    global speed\n",
    "    global df\n",
    "\n",
    "    df = pd.read_csv(test_path + name , header= None)\n",
    "    accelometer = df.iloc[:, 2:5] \n",
    "    gyroscope = df.iloc[:, 5:8] \n",
    "    speed = df.iloc[:, 9:10]"
   ]
  },
  {
   "cell_type": "code",
   "execution_count": 9,
   "metadata": {},
   "outputs": [],
   "source": [
    "def get_batch(batch_size, index):\n",
    "\n",
    "    global accelometer\n",
    "    global gyroscope\n",
    "    global speed\n",
    "    global df\n",
    "    \n",
    "    idx = index\n",
    "\n",
    "    #input to Network[accelometer data]\n",
    "    ##########################################################################################\n",
    "\n",
    "    batch_accelometer = [accelometer.iloc[i * interval : i * interval + interval,:] for i in range(idx,idx + batch_size)]\n",
    "\n",
    "    batch_accelometer = np.array(batch_accelometer, dtype='float64')\n",
    "\n",
    "\n",
    "    #ground truth[acceleraion(m/s)]\n",
    "    ########################################################################################## \n",
    "\n",
    "    batch_acceleraion = [speed.iloc[i * interval,:] for i in range(idx + 1,idx + batch_size + 1)]\n",
    "\n",
    "    batch_acceleraion = np.array(batch_acceleraion,  dtype='float64')\n",
    "\n",
    "\n",
    "\n",
    "\n",
    "    return batch_accelometer, batch_acceleraion"
   ]
  },
  {
   "cell_type": "code",
   "execution_count": 10,
   "metadata": {},
   "outputs": [],
   "source": [
    "file_select_train('locationData.csv')"
   ]
  },
  {
   "cell_type": "code",
   "execution_count": 11,
   "metadata": {},
   "outputs": [],
   "source": [
    "x,y = get_batch(50,0)"
   ]
  },
  {
   "cell_type": "code",
   "execution_count": 12,
   "metadata": {},
   "outputs": [],
   "source": [
    "x = tf.keras.layers.Conv1D(filters = 128, kernel_size = 3, activation='relu')(x)\n",
    "x = tf.keras.layers.Conv1D(filters = 128, kernel_size = 3, activation='relu')(x)\n",
    "x = tf.keras.layers.MaxPool1D(3)(x)\n",
    "x = tf.keras.layers.Conv1D(filters = 128, kernel_size = 3, activation='relu')(x)\n",
    "x = tf.keras.layers.Conv1D(filters = 128, kernel_size = 3, activation='relu')(x)\n",
    "x = tf.keras.layers.GlobalAveragePooling1D()(x)\n"
   ]
  },
  {
   "cell_type": "code",
   "execution_count": 13,
   "metadata": {},
   "outputs": [
    {
     "output_type": "execute_result",
     "data": {
      "text/plain": [
       "TensorShape([50, 128])"
      ]
     },
     "metadata": {},
     "execution_count": 13
    }
   ],
   "source": [
    "x.shape"
   ]
  },
  {
   "cell_type": "code",
   "execution_count": 14,
   "metadata": {},
   "outputs": [
    {
     "output_type": "stream",
     "name": "stdout",
     "text": [
      "Model: \"sequential\"\n_________________________________________________________________\nLayer (type)                 Output Shape              Param #   \n=================================================================\nconv1d_4 (Conv1D)            (None, 48, 64)            640       \n_________________________________________________________________\nconv1d_5 (Conv1D)            (None, 46, 64)            12352     \n_________________________________________________________________\nmax_pooling1d_1 (MaxPooling1 (None, 15, 64)            0         \n_________________________________________________________________\nconv1d_6 (Conv1D)            (None, 13, 64)            12352     \n_________________________________________________________________\nconv1d_7 (Conv1D)            (None, 11, 64)            12352     \n_________________________________________________________________\nflatten (Flatten)            (None, 704)               0         \n_________________________________________________________________\ndense (Dense)                (None, 256)               180480    \n_________________________________________________________________\ndense_1 (Dense)              (None, 64)                16448     \n_________________________________________________________________\ndense_2 (Dense)              (None, 1)                 65        \n=================================================================\nTotal params: 234,689\nTrainable params: 234,689\nNon-trainable params: 0\n_________________________________________________________________\nNone\n"
     ]
    }
   ],
   "source": [
    "def build_model():\n",
    "  model = tf.keras.Sequential([\n",
    "    tf.keras.layers.Conv1D(filters = 64, kernel_size = 3, activation='relu', input_shape = (50,3)),\n",
    "    tf.keras.layers.Conv1D(filters = 64, kernel_size = 3, activation='relu'),\n",
    "    tf.keras.layers.MaxPool1D(3),\n",
    "\n",
    "    tf.keras.layers.Conv1D(filters = 64, kernel_size = 3, activation='relu'),\n",
    "    tf.keras.layers.Conv1D(filters = 64, kernel_size = 3, activation='relu'),\n",
    "\n",
    "\n",
    "    tf.keras.layers.Flatten(),\n",
    "    tf.keras.layers.Dense(256, activation='relu'),\n",
    "    tf.keras.layers.Dense(64, activation='relu'),\n",
    "\n",
    "    tf.keras.layers.Dense(1)\n",
    "  ])\n",
    "\n",
    "  return model\n",
    "model = build_model()\n",
    "print(model.summary())"
   ]
  },
  {
   "cell_type": "code",
   "execution_count": 15,
   "metadata": {},
   "outputs": [],
   "source": [
    "# def build_model():\n",
    "#   model = tf.keras.Sequential([\n",
    "#     tf.keras.layers.Conv1D(filters = 128, kernel_size = 3, activation='relu', input_shape = (50,3)),\n",
    "#     tf.keras.layers.Conv1D(filters = 128, kernel_size = 3, activation='relu'),\n",
    "    \n",
    "#     tf.keras.layers.MaxPool1D(3),\n",
    "    \n",
    "#     tf.keras.layers.Conv1D(filters = 128, kernel_size = 3, activation='relu'),\n",
    "#     tf.keras.layers.Conv1D(filters = 128, kernel_size = 3, activation='relu'),\n",
    "    \n",
    "#     tf.keras.layers.Dense(128, activation='relu'),\n",
    "\n",
    "\n",
    "#     tf.keras.layers.Dense(1)\n",
    "#   ])\n",
    "\n",
    "#   return model\n",
    "\n",
    "# model = build_model()\n",
    "# print(model.summary())\n"
   ]
  },
  {
   "cell_type": "code",
   "execution_count": 16,
   "metadata": {},
   "outputs": [],
   "source": [
    "def compute_loss(labels, logits):\n",
    "  mse = tf.keras.losses.MeanSquaredError()\n",
    "  loss = mse(labels, logits)\n",
    "  return loss\n",
    "\n",
    "def precent_loss(labels, logits):\n",
    "    mae = tf.keras.losses.MeanAbsolutePercentageError()\n",
    "    loss = mae(labels, logits)\n",
    "    return loss"
   ]
  },
  {
   "cell_type": "code",
   "execution_count": 17,
   "metadata": {},
   "outputs": [],
   "source": [
    "# Define our metrics for tensorboard\n",
    "train_loss = tf.keras.metrics.Mean('train_loss', dtype=tf.float32)\n",
    "test_loss = tf.keras.metrics.Mean('test_loss', dtype=tf.float32)"
   ]
  },
  {
   "cell_type": "code",
   "execution_count": 37,
   "metadata": {},
   "outputs": [],
   "source": [
    "### Hyperparameter setting and optimization ###\n",
    "\n",
    "# Optimization parameters:\n",
    "EPOCHS = 100  # Increase this to train longer\n",
    "batch_size = 10  # Experiment between 1 and 64\n",
    "learning_rate = 1e-6  # Experiment between 1e-5 and 1e-1\n",
    "\n",
    "# Checkpoint location: \n",
    "checkpoint_dir = './training_checkpoints'\n",
    "checkpoint_prefix = os.path.join(checkpoint_dir, \"my_ckpt\")"
   ]
  },
  {
   "cell_type": "code",
   "execution_count": 38,
   "metadata": {},
   "outputs": [],
   "source": [
    "optimizer = tf.keras.optimizers.Adam(learning_rate)\n",
    "\n",
    "@tf.function\n",
    "def train_step(x, y): \n",
    "  # Use tf.GradientTape()\n",
    "  with tf.GradientTape() as tape:\n",
    "      y_hat = model(x) \n",
    "      loss = compute_loss(y, y_hat)\n",
    "\n",
    "\n",
    "  # Now, compute the gradients \n",
    "  grads = tape.gradient(loss, model.trainable_variables) \n",
    "  # Apply the gradients to the optimizer so it can update the model accordingly\n",
    "  optimizer.apply_gradients(zip(grads, model.trainable_variables))\n",
    "  \n",
    "  #metrics\n",
    "  train_loss(loss)\n",
    "\n",
    "@tf.function\n",
    "def test_step(x, y): \n",
    "    y_hat = model(x) \n",
    "    loss = precent_loss(y, y_hat)\n",
    "    test_loss(loss)"
   ]
  },
  {
   "cell_type": "code",
   "execution_count": 39,
   "metadata": {},
   "outputs": [
    {
     "output_type": "stream",
     "name": "stdout",
     "text": [
      "epoch 1, Loss: 314577.34375, Test Loss: 930.5774536132812\n",
      "epoch 2, Loss: 252121.625, Test Loss: 925.1773681640625\n",
      "epoch 3, Loss: 252121.625, Test Loss: 921.1731567382812\n",
      "epoch 4, Loss: 252121.625, Test Loss: 917.2348022460938\n",
      "epoch 5, Loss: 252121.625, Test Loss: 913.5752563476562\n",
      "epoch 6, Loss: 252121.625, Test Loss: 910.3853149414062\n",
      "epoch 7, Loss: 252121.625, Test Loss: 907.2840576171875\n",
      "epoch 8, Loss: 252121.625, Test Loss: 904.403076171875\n",
      "epoch 9, Loss: 252121.625, Test Loss: 901.6700439453125\n",
      "epoch 10, Loss: 252121.625, Test Loss: 899.0266723632812\n",
      "epoch 11, Loss: 252121.625, Test Loss: 896.412841796875\n",
      "epoch 12, Loss: 252121.625, Test Loss: 893.7931518554688\n",
      "epoch 13, Loss: 252121.625, Test Loss: 891.2327270507812\n",
      "epoch 14, Loss: 252121.625, Test Loss: 888.7079467773438\n",
      "epoch 15, Loss: 252121.625, Test Loss: 886.1831665039062\n",
      "epoch 16, Loss: 252121.625, Test Loss: 883.6942138671875\n",
      "epoch 17, Loss: 252121.625, Test Loss: 881.3058471679688\n",
      "epoch 18, Loss: 252121.625, Test Loss: 879.0545043945312\n",
      "epoch 19, Loss: 252121.625, Test Loss: 876.8211059570312\n",
      "epoch 20, Loss: 252121.625, Test Loss: 874.5279541015625\n",
      "epoch 21, Loss: 252121.625, Test Loss: 872.318115234375\n",
      "epoch 22, Loss: 252121.625, Test Loss: 870.1259765625\n",
      "epoch 23, Loss: 252121.625, Test Loss: 868.0704956054688\n",
      "epoch 24, Loss: 252121.625, Test Loss: 866.074462890625\n",
      "epoch 25, Loss: 252121.625, Test Loss: 864.0606689453125\n",
      "epoch 26, Loss: 252121.625, Test Loss: 862.0346069335938\n",
      "epoch 27, Loss: 252121.625, Test Loss: 860.1870727539062\n",
      "epoch 28, Loss: 252121.625, Test Loss: 858.2446899414062\n",
      "epoch 29, Loss: 252121.625, Test Loss: 856.4149780273438\n",
      "epoch 30, Loss: 252121.625, Test Loss: 854.5258178710938\n",
      "epoch 31, Loss: 252121.625, Test Loss: 852.6666870117188\n",
      "epoch 32, Loss: 252121.625, Test Loss: 850.8904418945312\n",
      "epoch 33, Loss: 252121.625, Test Loss: 849.0311279296875\n",
      "epoch 34, Loss: 252121.625, Test Loss: 847.1481323242188\n",
      "epoch 35, Loss: 252121.625, Test Loss: 845.377685546875\n",
      "epoch 36, Loss: 252121.625, Test Loss: 843.7200927734375\n",
      "epoch 37, Loss: 252121.625, Test Loss: 842.0687866210938\n",
      "epoch 38, Loss: 252121.625, Test Loss: 840.5419921875\n",
      "epoch 39, Loss: 252121.625, Test Loss: 838.9854736328125\n",
      "epoch 40, Loss: 252121.625, Test Loss: 837.5535888671875\n",
      "epoch 41, Loss: 252121.625, Test Loss: 836.050537109375\n",
      "epoch 42, Loss: 252121.625, Test Loss: 834.7138671875\n",
      "epoch 43, Loss: 252121.625, Test Loss: 833.3536987304688\n",
      "epoch 44, Loss: 252121.625, Test Loss: 831.963623046875\n",
      "epoch 45, Loss: 252121.625, Test Loss: 830.7045288085938\n",
      "epoch 46, Loss: 252121.625, Test Loss: 829.367919921875\n",
      "epoch 47, Loss: 252121.625, Test Loss: 828.04296875\n",
      "epoch 48, Loss: 252121.625, Test Loss: 826.74169921875\n",
      "epoch 49, Loss: 252121.625, Test Loss: 825.4468994140625\n",
      "epoch 50, Loss: 252121.625, Test Loss: 824.2112426757812\n",
      "epoch 51, Loss: 252121.625, Test Loss: 822.9163208007812\n",
      "epoch 52, Loss: 252121.625, Test Loss: 821.6212768554688\n",
      "epoch 53, Loss: 252121.625, Test Loss: 820.4033813476562\n",
      "epoch 54, Loss: 252121.625, Test Loss: 819.1917114257812\n",
      "epoch 55, Loss: 252121.625, Test Loss: 817.90283203125\n",
      "epoch 56, Loss: 252121.625, Test Loss: 816.6314697265625\n",
      "epoch 57, Loss: 252121.625, Test Loss: 815.4552001953125\n",
      "epoch 58, Loss: 252121.625, Test Loss: 814.2255859375\n",
      "epoch 59, Loss: 252121.625, Test Loss: 812.995849609375\n",
      "epoch 60, Loss: 252121.625, Test Loss: 811.7600708007812\n",
      "epoch 61, Loss: 252121.625, Test Loss: 810.6015014648438\n",
      "epoch 62, Loss: 252121.625, Test Loss: 809.4194946289062\n",
      "epoch 63, Loss: 252121.625, Test Loss: 808.2671508789062\n",
      "epoch 64, Loss: 252121.625, Test Loss: 807.1444091796875\n",
      "epoch 65, Loss: 252121.625, Test Loss: 806.0870971679688\n",
      "epoch 66, Loss: 252121.625, Test Loss: 805.0653076171875\n",
      "epoch 67, Loss: 252121.625, Test Loss: 803.9483642578125\n",
      "epoch 68, Loss: 252121.625, Test Loss: 802.950439453125\n",
      "epoch 69, Loss: 252121.625, Test Loss: 801.9705200195312\n",
      "epoch 70, Loss: 252121.625, Test Loss: 800.9662475585938\n",
      "epoch 71, Loss: 252121.625, Test Loss: 800.0396118164062\n",
      "epoch 72, Loss: 252121.625, Test Loss: 799.1663208007812\n",
      "epoch 73, Loss: 252121.625, Test Loss: 798.2398681640625\n",
      "epoch 74, Loss: 252121.625, Test Loss: 797.3248901367188\n",
      "epoch 75, Loss: 252121.625, Test Loss: 796.3981323242188\n",
      "epoch 76, Loss: 252121.625, Test Loss: 795.5428466796875\n",
      "epoch 77, Loss: 252121.625, Test Loss: 794.705322265625\n",
      "epoch 78, Loss: 252121.625, Test Loss: 793.8258666992188\n",
      "epoch 79, Loss: 252121.625, Test Loss: 792.958740234375\n",
      "epoch 80, Loss: 252121.625, Test Loss: 792.067626953125\n",
      "epoch 81, Loss: 252121.625, Test Loss: 791.2479858398438\n",
      "epoch 82, Loss: 252121.625, Test Loss: 790.4461059570312\n",
      "epoch 83, Loss: 252121.625, Test Loss: 789.6026611328125\n",
      "epoch 84, Loss: 252121.625, Test Loss: 788.7886962890625\n",
      "epoch 85, Loss: 252121.625, Test Loss: 787.9512939453125\n",
      "epoch 86, Loss: 252121.625, Test Loss: 787.1492309570312\n",
      "epoch 87, Loss: 252121.625, Test Loss: 786.4898071289062\n",
      "epoch 88, Loss: 252121.625, Test Loss: 785.8362426757812\n",
      "epoch 89, Loss: 252121.625, Test Loss: 785.1946411132812\n",
      "epoch 90, Loss: 252121.625, Test Loss: 784.541259765625\n",
      "epoch 91, Loss: 252121.625, Test Loss: 783.8522338867188\n",
      "epoch 92, Loss: 252121.625, Test Loss: 783.2047729492188\n",
      "epoch 93, Loss: 252121.625, Test Loss: 782.5751953125\n",
      "epoch 94, Loss: 252121.625, Test Loss: 782.0880737304688\n",
      "epoch 95, Loss: 252121.625, Test Loss: 781.696044921875\n",
      "epoch 96, Loss: 252121.625, Test Loss: 781.2564697265625\n",
      "epoch 97, Loss: 252121.625, Test Loss: 780.8050537109375\n",
      "epoch 98, Loss: 252121.625, Test Loss: 780.4071044921875\n",
      "epoch 99, Loss: 252121.625, Test Loss: 779.9733276367188\n",
      "epoch 100, Loss: 252121.625, Test Loss: 779.5812377929688\n"
     ]
    }
   ],
   "source": [
    "##################\n",
    "# Begin training!#\n",
    "##################\n",
    "\n",
    "for epoch in range(EPOCHS):\n",
    "\n",
    "  # Grab a batch and propagate it through the network\n",
    "  for filename in os.listdir(train_path):\n",
    "    if not filename.startswith('.'):\n",
    "      file_select_train(filename)\n",
    "      for index in range(0, ((len(df) - (batch_size + 1) * interval) // interval), batch_size):\n",
    "        x_batch, y_batch = get_batch(batch_size, index)\n",
    "        train_step(x_batch, y_batch)\n",
    "\n",
    "  with train_summary_writer.as_default():\n",
    "    tf.summary.scalar('loss', train_loss.result(), step=epoch)\n",
    "\n",
    "  for filename in os.listdir(test_path):\n",
    "    if not filename.startswith('.'):\n",
    "      file_select_test(filename)\n",
    "      for index in range(0, ((len(df) - (batch_size + 1) * interval) // interval), batch_size):\n",
    "        x_batch, y_batch = get_batch(batch_size, index)\n",
    "        test_step(x_batch, y_batch)\n",
    "\n",
    "  with test_summary_writer.as_default():\n",
    "    tf.summary.scalar('loss_test', test_loss.result(), step=epoch)\n",
    "\n",
    "  # Update the model with the changed weights!\n",
    "  if epoch % 10 == 0:     \n",
    "    model.save_weights(checkpoint_prefix)\n",
    "\n",
    "  template = 'epoch {}, Loss: {}, Test Loss: {}'\n",
    "  print (template.format(epoch+1,\n",
    "                         train_loss.result(), \n",
    "                         test_loss.result())) \n",
    "\n",
    "\n",
    "  # Reset metrics every epoch\n",
    "  train_loss.reset_states()\n",
    "  test_loss.reset_states()\n",
    "    \n",
    "# Save the trained model and the weights\n",
    "model.save_weights(checkpoint_prefix)"
   ]
  },
  {
   "cell_type": "code",
   "execution_count": null,
   "metadata": {},
   "outputs": [],
   "source": [
    "x,y = get_batch(1,50)\n",
    "model.predict(x)"
   ]
  },
  {
   "cell_type": "code",
   "execution_count": 60,
   "metadata": {},
   "outputs": [
    {
     "output_type": "execute_result",
     "data": {
      "text/plain": [
       "array([[0.96201709]])"
      ]
     },
     "metadata": {},
     "execution_count": 60
    }
   ],
   "source": [
    "y"
   ]
  },
  {
   "cell_type": "code",
   "execution_count": 12,
   "metadata": {},
   "outputs": [
    {
     "output_type": "display_data",
     "data": {
      "text/plain": "Reusing TensorBoard on port 6006 (pid 11502), started 3 days, 1:22:34 ago. (Use '!kill 11502' to kill it.)"
     },
     "metadata": {}
    }
   ],
   "source": [
    "%tensorboard --logdir /Users/amitaflalo/Desktop/deepnav/logs\n"
   ]
  },
  {
   "cell_type": "code",
   "execution_count": null,
   "metadata": {},
   "outputs": [],
   "source": []
  }
 ]
}